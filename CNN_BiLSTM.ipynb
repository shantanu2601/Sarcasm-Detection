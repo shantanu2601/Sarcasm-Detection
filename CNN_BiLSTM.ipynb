{
  "nbformat": 4,
  "nbformat_minor": 0,
  "metadata": {
    "colab": {
      "name": "Sarcasm_Detection.ipynb",
      "provenance": [],
      "collapsed_sections": []
    },
    "kernelspec": {
      "name": "python3",
      "display_name": "Python 3"
    },
    "language_info": {
      "name": "python"
    },
    "gpuClass": "standard"
  },
  "cells": [
    {
      "cell_type": "code",
      "source": [
        "from google.colab import drive\n",
        "drive.mount('/content/drive')"
      ],
      "metadata": {
        "colab": {
          "base_uri": "https://localhost:8080/"
        },
        "id": "pCoAup7SWZRN",
        "outputId": "13326e0c-d727-4f7f-b3f0-4d0da307be3a"
      },
      "execution_count": 1,
      "outputs": [
        {
          "output_type": "stream",
          "name": "stdout",
          "text": [
            "Mounted at /content/drive\n"
          ]
        }
      ]
    },
    {
      "cell_type": "code",
      "execution_count": 1,
      "metadata": {
        "id": "DKFwFe9kWUzu"
      },
      "outputs": [],
      "source": [
        "import numpy as np\n",
        "import pandas as pd\n",
        "import re, string , unicodedata\n",
        "import matplotlib.pyplot as plt\n",
        "from sklearn.metrics import accuracy_score, f1_score, precision_score, recall_score, classification_report, confusion_matrix"
      ]
    },
    {
      "cell_type": "code",
      "source": [
        "import tensorflow as tf\n",
        "from tensorflow import keras\n",
        "tf.config.list_physical_devices('GPU')"
      ],
      "metadata": {
        "colab": {
          "base_uri": "https://localhost:8080/"
        },
        "id": "e_C253Aq2D9U",
        "outputId": "e633f628-700c-451d-da83-8e254ddc2f1a"
      },
      "execution_count": 2,
      "outputs": [
        {
          "output_type": "execute_result",
          "data": {
            "text/plain": [
              "[PhysicalDevice(name='/physical_device:GPU:0', device_type='GPU')]"
            ]
          },
          "metadata": {},
          "execution_count": 2
        }
      ]
    },
    {
      "cell_type": "code",
      "source": [
        "import nltk\n",
        "nltk.download('stopwords')\n",
        "#nltk.download()"
      ],
      "metadata": {
        "colab": {
          "base_uri": "https://localhost:8080/"
        },
        "id": "v8uiBy83W6OP",
        "outputId": "59f5246a-a14c-4f71-89b3-950bda6d43b8"
      },
      "execution_count": 3,
      "outputs": [
        {
          "output_type": "stream",
          "name": "stderr",
          "text": [
            "[nltk_data] Downloading package stopwords to /root/nltk_data...\n",
            "[nltk_data]   Package stopwords is already up-to-date!\n"
          ]
        },
        {
          "output_type": "execute_result",
          "data": {
            "text/plain": [
              "True"
            ]
          },
          "metadata": {},
          "execution_count": 3
        }
      ]
    },
    {
      "cell_type": "code",
      "source": [
        "df = pd.read_json('/content/drive/MyDrive/Sarcasm Detection/Sarcasm_Headlines_Dataset.json', lines = True, orient = 'columns')\n",
        "df_v2 = pd.read_json('/content/drive/MyDrive/Sarcasm Detection/Sarcasm_Headlines_Dataset_v2.json', lines = True, orient = 'columns')\n",
        "df = pd.concat([df, df_v2])\n",
        "df.head()"
      ],
      "metadata": {
        "colab": {
          "base_uri": "https://localhost:8080/",
          "height": 206
        },
        "id": "YbwF4D5gXhfE",
        "outputId": "75d9ebf9-5fa8-4d35-9ccc-89744ed72949"
      },
      "execution_count": 4,
      "outputs": [
        {
          "output_type": "execute_result",
          "data": {
            "text/plain": [
              "                                        article_link  \\\n",
              "0  https://www.huffingtonpost.com/entry/versace-b...   \n",
              "1  https://www.huffingtonpost.com/entry/roseanne-...   \n",
              "2  https://local.theonion.com/mom-starting-to-fea...   \n",
              "3  https://politics.theonion.com/boehner-just-wan...   \n",
              "4  https://www.huffingtonpost.com/entry/jk-rowlin...   \n",
              "\n",
              "                                            headline  is_sarcastic  \n",
              "0  former versace store clerk sues over secret 'b...             0  \n",
              "1  the 'roseanne' revival catches up to our thorn...             0  \n",
              "2  mom starting to fear son's web series closest ...             1  \n",
              "3  boehner just wants wife to listen, not come up...             1  \n",
              "4  j.k. rowling wishes snape happy birthday in th...             0  "
            ],
            "text/html": [
              "\n",
              "  <div id=\"df-91942fa3-8a57-4ed2-8070-87974dd42816\">\n",
              "    <div class=\"colab-df-container\">\n",
              "      <div>\n",
              "<style scoped>\n",
              "    .dataframe tbody tr th:only-of-type {\n",
              "        vertical-align: middle;\n",
              "    }\n",
              "\n",
              "    .dataframe tbody tr th {\n",
              "        vertical-align: top;\n",
              "    }\n",
              "\n",
              "    .dataframe thead th {\n",
              "        text-align: right;\n",
              "    }\n",
              "</style>\n",
              "<table border=\"1\" class=\"dataframe\">\n",
              "  <thead>\n",
              "    <tr style=\"text-align: right;\">\n",
              "      <th></th>\n",
              "      <th>article_link</th>\n",
              "      <th>headline</th>\n",
              "      <th>is_sarcastic</th>\n",
              "    </tr>\n",
              "  </thead>\n",
              "  <tbody>\n",
              "    <tr>\n",
              "      <th>0</th>\n",
              "      <td>https://www.huffingtonpost.com/entry/versace-b...</td>\n",
              "      <td>former versace store clerk sues over secret 'b...</td>\n",
              "      <td>0</td>\n",
              "    </tr>\n",
              "    <tr>\n",
              "      <th>1</th>\n",
              "      <td>https://www.huffingtonpost.com/entry/roseanne-...</td>\n",
              "      <td>the 'roseanne' revival catches up to our thorn...</td>\n",
              "      <td>0</td>\n",
              "    </tr>\n",
              "    <tr>\n",
              "      <th>2</th>\n",
              "      <td>https://local.theonion.com/mom-starting-to-fea...</td>\n",
              "      <td>mom starting to fear son's web series closest ...</td>\n",
              "      <td>1</td>\n",
              "    </tr>\n",
              "    <tr>\n",
              "      <th>3</th>\n",
              "      <td>https://politics.theonion.com/boehner-just-wan...</td>\n",
              "      <td>boehner just wants wife to listen, not come up...</td>\n",
              "      <td>1</td>\n",
              "    </tr>\n",
              "    <tr>\n",
              "      <th>4</th>\n",
              "      <td>https://www.huffingtonpost.com/entry/jk-rowlin...</td>\n",
              "      <td>j.k. rowling wishes snape happy birthday in th...</td>\n",
              "      <td>0</td>\n",
              "    </tr>\n",
              "  </tbody>\n",
              "</table>\n",
              "</div>\n",
              "      <button class=\"colab-df-convert\" onclick=\"convertToInteractive('df-91942fa3-8a57-4ed2-8070-87974dd42816')\"\n",
              "              title=\"Convert this dataframe to an interactive table.\"\n",
              "              style=\"display:none;\">\n",
              "        \n",
              "  <svg xmlns=\"http://www.w3.org/2000/svg\" height=\"24px\"viewBox=\"0 0 24 24\"\n",
              "       width=\"24px\">\n",
              "    <path d=\"M0 0h24v24H0V0z\" fill=\"none\"/>\n",
              "    <path d=\"M18.56 5.44l.94 2.06.94-2.06 2.06-.94-2.06-.94-.94-2.06-.94 2.06-2.06.94zm-11 1L8.5 8.5l.94-2.06 2.06-.94-2.06-.94L8.5 2.5l-.94 2.06-2.06.94zm10 10l.94 2.06.94-2.06 2.06-.94-2.06-.94-.94-2.06-.94 2.06-2.06.94z\"/><path d=\"M17.41 7.96l-1.37-1.37c-.4-.4-.92-.59-1.43-.59-.52 0-1.04.2-1.43.59L10.3 9.45l-7.72 7.72c-.78.78-.78 2.05 0 2.83L4 21.41c.39.39.9.59 1.41.59.51 0 1.02-.2 1.41-.59l7.78-7.78 2.81-2.81c.8-.78.8-2.07 0-2.86zM5.41 20L4 18.59l7.72-7.72 1.47 1.35L5.41 20z\"/>\n",
              "  </svg>\n",
              "      </button>\n",
              "      \n",
              "  <style>\n",
              "    .colab-df-container {\n",
              "      display:flex;\n",
              "      flex-wrap:wrap;\n",
              "      gap: 12px;\n",
              "    }\n",
              "\n",
              "    .colab-df-convert {\n",
              "      background-color: #E8F0FE;\n",
              "      border: none;\n",
              "      border-radius: 50%;\n",
              "      cursor: pointer;\n",
              "      display: none;\n",
              "      fill: #1967D2;\n",
              "      height: 32px;\n",
              "      padding: 0 0 0 0;\n",
              "      width: 32px;\n",
              "    }\n",
              "\n",
              "    .colab-df-convert:hover {\n",
              "      background-color: #E2EBFA;\n",
              "      box-shadow: 0px 1px 2px rgba(60, 64, 67, 0.3), 0px 1px 3px 1px rgba(60, 64, 67, 0.15);\n",
              "      fill: #174EA6;\n",
              "    }\n",
              "\n",
              "    [theme=dark] .colab-df-convert {\n",
              "      background-color: #3B4455;\n",
              "      fill: #D2E3FC;\n",
              "    }\n",
              "\n",
              "    [theme=dark] .colab-df-convert:hover {\n",
              "      background-color: #434B5C;\n",
              "      box-shadow: 0px 1px 3px 1px rgba(0, 0, 0, 0.15);\n",
              "      filter: drop-shadow(0px 1px 2px rgba(0, 0, 0, 0.3));\n",
              "      fill: #FFFFFF;\n",
              "    }\n",
              "  </style>\n",
              "\n",
              "      <script>\n",
              "        const buttonEl =\n",
              "          document.querySelector('#df-91942fa3-8a57-4ed2-8070-87974dd42816 button.colab-df-convert');\n",
              "        buttonEl.style.display =\n",
              "          google.colab.kernel.accessAllowed ? 'block' : 'none';\n",
              "\n",
              "        async function convertToInteractive(key) {\n",
              "          const element = document.querySelector('#df-91942fa3-8a57-4ed2-8070-87974dd42816');\n",
              "          const dataTable =\n",
              "            await google.colab.kernel.invokeFunction('convertToInteractive',\n",
              "                                                     [key], {});\n",
              "          if (!dataTable) return;\n",
              "\n",
              "          const docLinkHtml = 'Like what you see? Visit the ' +\n",
              "            '<a target=\"_blank\" href=https://colab.research.google.com/notebooks/data_table.ipynb>data table notebook</a>'\n",
              "            + ' to learn more about interactive tables.';\n",
              "          element.innerHTML = '';\n",
              "          dataTable['output_type'] = 'display_data';\n",
              "          await google.colab.output.renderOutput(dataTable, element);\n",
              "          const docLink = document.createElement('div');\n",
              "          docLink.innerHTML = docLinkHtml;\n",
              "          element.appendChild(docLink);\n",
              "        }\n",
              "      </script>\n",
              "    </div>\n",
              "  </div>\n",
              "  "
            ]
          },
          "metadata": {},
          "execution_count": 4
        }
      ]
    },
    {
      "cell_type": "code",
      "source": [
        "print(df.isna().sum())\n",
        "print('')\n",
        "df.drop(columns= ['article_link'], inplace= True)\n",
        "df.info()"
      ],
      "metadata": {
        "colab": {
          "base_uri": "https://localhost:8080/"
        },
        "id": "CztUsmfWX0GE",
        "outputId": "953d32d7-35d6-4580-8fd8-d5a1ec732e9b"
      },
      "execution_count": 5,
      "outputs": [
        {
          "output_type": "stream",
          "name": "stdout",
          "text": [
            "article_link    0\n",
            "headline        0\n",
            "is_sarcastic    0\n",
            "dtype: int64\n",
            "\n",
            "<class 'pandas.core.frame.DataFrame'>\n",
            "Int64Index: 55328 entries, 0 to 28618\n",
            "Data columns (total 2 columns):\n",
            " #   Column        Non-Null Count  Dtype \n",
            "---  ------        --------------  ----- \n",
            " 0   headline      55328 non-null  object\n",
            " 1   is_sarcastic  55328 non-null  int64 \n",
            "dtypes: int64(1), object(1)\n",
            "memory usage: 1.3+ MB\n"
          ]
        }
      ]
    },
    {
      "cell_type": "code",
      "source": [
        "# convert to lowercase\n",
        "df['headline'] = df['headline'].apply(lambda x: x.lower())\n",
        "\n",
        "# remove punctuation\n",
        "df['headline'] = df['headline'].apply(lambda x: ' '.join(\n",
        "    word.strip(string.punctuation) for word in x.split()))\n",
        "\n",
        "# remove stopwords\n",
        "stopwords = nltk.corpus.stopwords.words('english')\n",
        "headline = []\n",
        "for sentence in df['headline']:\n",
        "    filtered_list = []\n",
        "    for word in sentence.split():\n",
        "        if word not in stopwords:\n",
        "            filtered_list.append(word)\n",
        "    join_string = ' '.join([str(i) for i in filtered_list])\n",
        "    headline.append(join_string)\n",
        "df['headline'] = headline"
      ],
      "metadata": {
        "id": "IKOCdUutX7ic"
      },
      "execution_count": 6,
      "outputs": []
    },
    {
      "cell_type": "code",
      "source": [
        "from sklearn.model_selection import train_test_split\n",
        "train_data, test_data = train_test_split(df, test_size = 0.1)\n",
        "\n",
        "train_sentences = list(train_data['headline'])\n",
        "train_labels = list(train_data['is_sarcastic'])\n",
        "\n",
        "test_sentences = list(test_data['headline'])\n",
        "test_labels = list(test_data['is_sarcastic'])\n",
        "\n",
        "train_labels = np.array(train_labels)\n",
        "test_labels = np.array(test_labels)"
      ],
      "metadata": {
        "id": "k0zH5NUAYKd8"
      },
      "execution_count": 7,
      "outputs": []
    },
    {
      "cell_type": "code",
      "source": [
        "import seaborn as sns\n",
        "headline_lengths = df['headline'].apply(lambda x: len(x.split())) \n",
        "sns.distplot(headline_lengths)\n",
        "headline_lengths.quantile(0.9999)\n",
        "### 99.99% sentences have less than 25 or less words"
      ],
      "metadata": {
        "colab": {
          "base_uri": "https://localhost:8080/",
          "height": 351
        },
        "id": "JAxLQZiNYQuO",
        "outputId": "77464dcb-6fd9-4e87-b358-4159e8a41179"
      },
      "execution_count": 8,
      "outputs": [
        {
          "output_type": "stream",
          "name": "stderr",
          "text": [
            "/usr/local/lib/python3.7/dist-packages/seaborn/distributions.py:2619: FutureWarning: `distplot` is a deprecated function and will be removed in a future version. Please adapt your code to use either `displot` (a figure-level function with similar flexibility) or `histplot` (an axes-level function for histograms).\n",
            "  warnings.warn(msg, FutureWarning)\n"
          ]
        },
        {
          "output_type": "execute_result",
          "data": {
            "text/plain": [
              "25.0"
            ]
          },
          "metadata": {},
          "execution_count": 8
        },
        {
          "output_type": "display_data",
          "data": {
            "text/plain": [
              "<Figure size 432x288 with 1 Axes>"
            ],
            "image/png": "[encoded data removed]"
          },
          "metadata": {
            "needs_background": "light"
          }
        }
      ]
    },
    {
      "cell_type": "code",
      "source": [
        "import keras\n",
        "from keras.preprocessing.text import Tokenizer\n",
        "from keras.preprocessing.sequence import pad_sequences"
      ],
      "metadata": {
        "id": "lOm4sPmodcHm"
      },
      "execution_count": 9,
      "outputs": []
    },
    {
      "cell_type": "code",
      "source": [
        "embedding_dim = 128\n",
        "# as noted from above plot and data we see that 99.99% of headlines are of length 25 or less\n",
        "# hence it is safe to assume that the suitable max length of a headline is 31\n",
        "max_length = 32\n",
        "\n",
        "oov_tok = '<OOV>'\n",
        "trunc_type = 'post'\n",
        "\n",
        "\n",
        "tokenizer = Tokenizer(oov_token= oov_tok)\n",
        "tokenizer.fit_on_texts(train_sentences)\n",
        "word_idx = tokenizer.word_index #dict with vocab words\n",
        "vocab_size = len(word_idx)\n",
        "\n",
        "training_sequences = tokenizer.texts_to_sequences(train_sentences)\n",
        "training_padded = pad_sequences(training_sequences, maxlen= max_length, padding= 'post', truncating= trunc_type)\n",
        "\n",
        "testing_sequences = tokenizer.texts_to_sequences(test_sentences)\n",
        "testing_padded = pad_sequences(testing_sequences, maxlen= max_length, padding= 'post', truncating= trunc_type)"
      ],
      "metadata": {
        "id": "ZsTaH2-WdrdL"
      },
      "execution_count": 10,
      "outputs": []
    },
    {
      "cell_type": "code",
      "source": [
        "print(train_sentences[0])\n",
        "print(training_sequences[0])\n",
        "print(training_padded[0])"
      ],
      "metadata": {
        "colab": {
          "base_uri": "https://localhost:8080/"
        },
        "id": "cLTxK4bed4UX",
        "outputId": "fd5c926d-2b9e-43bb-dadc-0a092c6eb23b"
      },
      "execution_count": 11,
      "outputs": [
        {
          "output_type": "stream",
          "name": "stdout",
          "text": [
            "detroit tourism board's hidden detroit campaign results 24 deaths\n",
            "[2188, 6332, 14821, 2856, 2188, 73, 881, 2014, 2331]\n",
            "[ 2188  6332 14821  2856  2188    73   881  2014  2331     0     0     0\n",
            "     0     0     0     0     0     0     0     0     0     0     0     0\n",
            "     0     0     0     0     0     0     0     0]\n"
          ]
        }
      ]
    },
    {
      "cell_type": "code",
      "source": [
        "training_padded = np.array(training_padded)\n",
        "print(training_padded.shape)\n",
        "\n",
        "testing_padded = np.array(testing_padded)\n",
        "print(testing_padded.shape)"
      ],
      "metadata": {
        "colab": {
          "base_uri": "https://localhost:8080/"
        },
        "id": "Z47wgc1BeEDI",
        "outputId": "75bba0e3-f031-42c9-c62c-0594169e9856"
      },
      "execution_count": 12,
      "outputs": [
        {
          "output_type": "stream",
          "name": "stdout",
          "text": [
            "(49795, 32)\n",
            "(5533, 32)\n"
          ]
        }
      ]
    },
    {
      "cell_type": "code",
      "source": [
        "model1d = tf.keras.Sequential([\n",
        "    keras.layers.Embedding(vocab_size + 1, embedding_dim, input_length= max_length),\n",
        "    keras.layers.Conv1D(128, 1, activation= 'relu'),\n",
        "    keras.layers.MaxPooling1D(2, padding= 'same'),\n",
        "    keras.layers.Bidirectional(keras.layers.LSTM(64)),\n",
        "    keras.layers.Dense(100, kernel_regularizer=keras.regularizers.l1(0.01), activation= 'relu'),\n",
        "    keras.layers.Dropout(0.1),\n",
        "    keras.layers.Dense(1, kernel_regularizer = keras.regularizers.l1(0.01), activation= 'sigmoid')\n",
        "])\n",
        "\n",
        "model1d.compile(loss= 'binary_crossentropy', optimizer= 'adam', metrics= ['accuracy'])\n",
        "model1d.summary()"
      ],
      "metadata": {
        "colab": {
          "base_uri": "https://localhost:8080/"
        },
        "id": "PqZWtWz217Ow",
        "outputId": "669218b6-bd28-48d6-b53b-d9b5ee2d59ed"
      },
      "execution_count": 13,
      "outputs": [
        {
          "output_type": "stream",
          "name": "stdout",
          "text": [
            "Model: \"sequential\"\n",
            "_________________________________________________________________\n",
            " Layer (type)                Output Shape              Param #   \n",
            "=================================================================\n",
            " embedding (Embedding)       (None, 32, 128)           3506688   \n",
            "                                                                 \n",
            " conv1d (Conv1D)             (None, 32, 128)           16512     \n",
            "                                                                 \n",
            " max_pooling1d (MaxPooling1D  (None, 16, 128)          0         \n",
            " )                                                               \n",
            "                                                                 \n",
            " bidirectional (Bidirectiona  (None, 128)              98816     \n",
            " l)                                                              \n",
            "                                                                 \n",
            " dense (Dense)               (None, 100)               12900     \n",
            "                                                                 \n",
            " dropout (Dropout)           (None, 100)               0         \n",
            "                                                                 \n",
            " dense_1 (Dense)             (None, 1)                 101       \n",
            "                                                                 \n",
            "=================================================================\n",
            "Total params: 3,635,017\n",
            "Trainable params: 3,635,017\n",
            "Non-trainable params: 0\n",
            "_________________________________________________________________\n"
          ]
        }
      ]
    },
    {
      "cell_type": "code",
      "source": [
        "history = model1d.fit(training_padded, train_labels, epochs= 10, validation_split= 0.2)\n",
        "res = (model1d.predict(testing_padded) > 0.5).astype(int).reshape(-1)\n",
        "print(\"Accuracy\", accuracy_score(y_true = test_labels, y_pred = res))\n",
        "print(\"Recall\", recall_score(y_true = test_labels, y_pred = res))\n",
        "print(\"Precision\", + precision_score(y_true = test_labels, y_pred = res))\n",
        "print(\"F1-score\", + f1_score(y_true = test_labels, y_pred = res))"
      ],
      "metadata": {
        "colab": {
          "base_uri": "https://localhost:8080/"
        },
        "id": "0kz6kKcK2HxP",
        "outputId": "7ff18f8e-70e6-4afb-fd84-85705291e124"
      },
      "execution_count": 14,
      "outputs": [
        {
          "output_type": "stream",
          "name": "stdout",
          "text": [
            "Epoch 1/10\n",
            "1245/1245 [==============================] - 27s 10ms/step - loss: 1.0206 - accuracy: 0.7985 - val_loss: 0.4265 - val_accuracy: 0.8783\n",
            "Epoch 2/10\n",
            "1245/1245 [==============================] - 12s 10ms/step - loss: 0.3286 - accuracy: 0.9298 - val_loss: 0.3721 - val_accuracy: 0.9076\n",
            "Epoch 3/10\n",
            "1245/1245 [==============================] - 12s 10ms/step - loss: 0.2414 - accuracy: 0.9661 - val_loss: 0.3569 - val_accuracy: 0.9238\n",
            "Epoch 4/10\n",
            "1245/1245 [==============================] - 12s 9ms/step - loss: 0.1995 - accuracy: 0.9813 - val_loss: 0.3542 - val_accuracy: 0.9278\n",
            "Epoch 5/10\n",
            "1245/1245 [==============================] - 12s 10ms/step - loss: 0.1779 - accuracy: 0.9890 - val_loss: 0.3612 - val_accuracy: 0.9341\n",
            "Epoch 6/10\n",
            "1245/1245 [==============================] - 12s 10ms/step - loss: 0.1675 - accuracy: 0.9919 - val_loss: 0.3486 - val_accuracy: 0.9352\n",
            "Epoch 7/10\n",
            "1245/1245 [==============================] - 12s 10ms/step - loss: 0.1600 - accuracy: 0.9947 - val_loss: 0.3730 - val_accuracy: 0.9332\n",
            "Epoch 8/10\n",
            "1245/1245 [==============================] - 13s 10ms/step - loss: 0.1563 - accuracy: 0.9954 - val_loss: 0.3694 - val_accuracy: 0.9341\n",
            "Epoch 9/10\n",
            "1245/1245 [==============================] - 12s 10ms/step - loss: 0.1548 - accuracy: 0.9955 - val_loss: 0.3728 - val_accuracy: 0.9346\n",
            "Epoch 10/10\n",
            "1245/1245 [==============================] - 12s 10ms/step - loss: 0.1527 - accuracy: 0.9962 - val_loss: 0.3675 - val_accuracy: 0.9354\n",
            "Accuracy 0.9358395084041208\n",
            "Recall 0.9312127236580517\n",
            "Precision 0.927892234548336\n",
            "F1-score 0.9295495137924192\n"
          ]
        }
      ]
    },
    {
      "cell_type": "markdown",
      "source": [
        "# **Using Glove Embeddings**"
      ],
      "metadata": {
        "id": "C4RHD8E4PT9Y"
      }
    },
    {
      "cell_type": "code",
      "source": [
        "embedding_dim = 100\n",
        "embeddings_idx = {}\n",
        "with open('/content/drive/MyDrive/Sarcasm Detection/glove.6B.100d.txt', encoding= 'utf-8') as f:\n",
        "    for line in f:\n",
        "        values = line.split()\n",
        "        word = values[0]\n",
        "        coefs = np.asarray(values[1:], dtype= 'float32')\n",
        "        embeddings_idx[word] = coefs\n",
        "        \n",
        "embedding_matrix = np.zeros((vocab_size + 1, embedding_dim))\n",
        "for key in sorted(word_idx, key= word_idx.get)[:vocab_size]:\n",
        "    embedding_vec = embeddings_idx.get(key)\n",
        "    if embedding_vec is not None:\n",
        "        embedding_matrix[word_idx[key]] = embedding_vec"
      ],
      "metadata": {
        "id": "Qd_iKsVgPTeu"
      },
      "execution_count": 12,
      "outputs": []
    },
    {
      "cell_type": "code",
      "source": [
        "for key in sorted(word_idx, key=word_idx.get)[:10]:\n",
        "  print(key,end=' ')\n",
        "  print(word_idx.get(key))"
      ],
      "metadata": {
        "colab": {
          "base_uri": "https://localhost:8080/"
        },
        "id": "QtLYqVSjREgP",
        "outputId": "89a0b077-5978-4f14-8983-3f6ba75b801a"
      },
      "execution_count": 13,
      "outputs": [
        {
          "output_type": "stream",
          "name": "stdout",
          "text": [
            "<OOV> 1\n",
            "new 2\n",
            "trump 3\n",
            "man 4\n",
            "one 5\n",
            "report 6\n",
            "year 7\n",
            "area 8\n",
            "u 9\n",
            "day 10\n"
          ]
        }
      ]
    },
    {
      "cell_type": "code",
      "source": [
        "for key in sorted(word_idx, key=word_idx.get)[:10]:\n",
        "  print(key,end=' ')\n",
        "  print(embeddings_idx.get(key))"
      ],
      "metadata": {
        "colab": {
          "base_uri": "https://localhost:8080/"
        },
        "id": "jbdvS9LJRHuz",
        "outputId": "df53a79d-55f2-44d7-ec58-57b4ad61dabb"
      },
      "execution_count": 14,
      "outputs": [
        {
          "output_type": "stream",
          "name": "stdout",
          "text": [
            "<OOV> None\n",
            "new [-4.3959e-02  1.8936e-01  6.6110e-01 -4.9007e-01  3.2211e-01 -3.4161e-01\n",
            " -6.8480e-02  3.1364e-01 -7.1142e-01  5.7436e-01 -3.3588e-01 -5.2279e-01\n",
            " -3.9075e-01 -8.9694e-02  4.6371e-01 -3.5610e-01  8.4576e-01 -2.6188e-02\n",
            " -1.9328e-01 -8.3846e-02  3.1806e-01 -1.9812e-01  3.0009e-01  6.9189e-02\n",
            "  5.4470e-01 -5.9193e-01  5.4221e-01 -6.2876e-01 -5.3447e-01  4.2334e-01\n",
            "  3.0869e-02  9.7164e-01 -5.6222e-01  4.5752e-02 -5.7100e-01  8.0185e-02\n",
            " -8.1434e-02 -6.0260e-01  1.6466e-01 -4.0281e-01 -4.7701e-01 -5.1950e-01\n",
            "  1.2777e-01 -4.3775e-01  2.6602e-01  4.8752e-01 -6.0220e-02 -5.2622e-01\n",
            "  3.7687e-01 -1.8007e-01  3.0166e-02 -9.4577e-02  1.6330e-01  5.9041e-01\n",
            " -4.8877e-01 -3.4230e+00  1.3113e-01 -8.0386e-02  1.8978e+00  1.8857e-01\n",
            " -5.7300e-01  8.6358e-01  2.1116e-03  3.6060e-01  8.0475e-01 -1.3954e-01\n",
            " -5.3935e-02  3.8873e-01  3.0673e-01 -3.1395e-01  8.3238e-02 -4.1737e-01\n",
            " -1.0998e+00 -8.8005e-01  2.1550e-01 -2.6132e-01 -1.0091e-01  7.9584e-02\n",
            " -1.2341e+00 -6.5281e-01  6.3363e-01 -9.8491e-02  3.3518e-01  2.6332e-01\n",
            " -9.6427e-01 -1.4150e-02  3.0849e-01 -3.1418e-01 -4.0793e-01 -4.2900e-01\n",
            "  8.5451e-02 -2.0073e-01  5.5050e-02 -4.0922e-02 -9.4015e-01  6.9544e-02\n",
            " -4.5397e-01 -1.4168e-01  9.2789e-01  5.9058e-01]\n",
            "trump [-0.15731  -0.75503   0.36845  -0.18958  -0.16896  -0.23157  -0.22658\n",
            " -0.30186   0.24372   0.61896   0.58995   0.047638 -0.055164 -0.70211\n",
            "  0.22084  -0.69232   0.49419   1.4285   -0.25362   0.20031  -0.26192\n",
            "  0.05315  -0.048418 -0.44982   0.54644  -0.014645 -0.015531 -0.61197\n",
            " -0.91964  -0.7528    0.64843   1.0934    0.052682  0.33345   0.10532\n",
            "  0.59517   0.023104 -0.37105   0.29749  -0.23683   0.079566 -0.10326\n",
            "  0.35885  -0.28935  -0.19881   0.22908  -0.061435  0.56127  -0.017115\n",
            " -0.32868  -0.78417  -0.49375   0.34944   0.16278  -0.061168 -1.3106\n",
            "  0.39152   0.124    -0.20873  -0.18473  -0.56184   0.55693   0.012114\n",
            " -0.54545  -0.31409   0.1       0.31543   0.74757  -0.47734  -0.18332\n",
            " -0.65623   0.40768  -0.30697  -0.47247  -0.7421   -0.44978  -0.078122\n",
            " -0.52673  -0.70633   1.3271    0.26298  -0.91      0.91632  -0.51643\n",
            "  0.20284  -0.25402  -1.2566    0.20271   0.92105  -0.57574  -0.15105\n",
            " -0.24831   0.36673  -0.53987   0.18534   0.25713   0.38794  -0.54137\n",
            "  0.67817  -0.17251 ]\n",
            "man [ 3.7293e-01  3.8503e-01  7.1086e-01 -6.5911e-01 -1.0128e-03  9.2715e-01\n",
            "  2.7615e-01 -5.6203e-02 -2.4294e-01  2.4632e-01 -1.8449e-01  3.1398e-01\n",
            "  4.8983e-01  9.2560e-02  3.2958e-01  1.5056e-01  5.7317e-01 -1.8529e-01\n",
            " -5.2277e-01  4.6191e-01  9.2038e-01  3.1001e-02 -1.6246e-01 -4.0567e-01\n",
            "  7.8621e-01  5.7722e-01 -5.3501e-01 -6.8228e-01  1.6987e-01  3.6310e-01\n",
            " -7.1773e-02  4.7233e-01  2.7806e-02 -1.4951e-01  1.7543e-01 -3.7573e-01\n",
            " -7.8517e-01  5.8171e-01  8.6859e-01  3.1445e-02 -4.5897e-01 -4.0917e-02\n",
            "  9.5897e-01 -1.6975e-01  1.3045e-01  2.7434e-01 -6.9485e-02  2.2402e-02\n",
            "  2.4977e-01 -2.1536e-01 -3.2406e-01 -3.9867e-01  6.8613e-01  1.7923e+00\n",
            " -3.7848e-01 -2.2477e+00 -7.7025e-01  4.6582e-01  1.2411e+00  5.7756e-01\n",
            "  4.1151e-01  8.4328e-01 -5.4259e-01 -1.6715e-01  7.3927e-01 -9.3477e-02\n",
            "  9.0278e-01  5.0889e-01 -5.0031e-01  2.6451e-01  1.5443e-01 -2.9432e-01\n",
            "  1.0906e-01 -2.6667e-01  3.5438e-01  4.9079e-02  1.8018e-01 -5.8590e-01\n",
            " -5.5542e-01 -2.8987e-01  7.4278e-01  3.4530e-01 -2.8757e-02 -2.2646e-01\n",
            " -1.3113e+00 -5.7190e-01 -5.2306e-01 -1.2670e-01 -9.8678e-02 -5.3463e-01\n",
            "  2.8607e-01 -3.7501e-01  4.5742e-01  4.5975e-02 -2.4675e-01  4.5656e-02\n",
            " -3.8302e-01 -9.3711e-01  3.9138e-02 -5.3911e-01]\n",
            "one [-0.22557   0.49418   0.4861   -0.4332    0.13738   0.50617   0.26058\n",
            "  0.30103  -0.091486  0.10876   0.3058    0.051028  0.22303   0.054236\n",
            "  0.068838 -0.24701   0.32689  -0.082203 -0.28866   0.3734    0.73804\n",
            " -0.040969  0.040201  0.11384   0.69987  -0.49745  -0.06755  -0.42599\n",
            " -0.10725  -0.010697 -0.01479   0.55976   0.3064    0.053053  0.058034\n",
            "  0.32756  -0.37233   0.46513   0.14285  -0.085003 -0.45476   0.19773\n",
            "  0.6383   -0.31148   0.10858   0.31557   0.36682  -0.35135  -0.48414\n",
            " -0.33235  -0.33816  -0.39678   0.1908    1.3513   -0.39044  -2.8795\n",
            " -0.14276  -0.087754  1.7713    0.99332  -0.14129   0.94389   0.050897\n",
            "  0.47373   0.86387  -0.16162   0.67199   0.52344   0.14438  -0.055194\n",
            " -0.34669  -0.20742   0.18907  -0.19845   0.34862   0.10121  -0.092119\n",
            " -0.66258  -1.0582   -0.11803   0.70171   0.077776 -0.50546   0.032243\n",
            " -1.6176   -0.29302  -0.061748 -0.32473   0.3439   -0.44698   0.085689\n",
            "  0.13295  -0.1807   -0.11854  -0.82985   0.13784  -0.34359  -0.45744\n",
            "  0.49646   0.34906 ]\n",
            "report [-0.59537   -0.32836    0.58577   -0.74072   -0.09532   -0.74893\n",
            " -0.28177    0.52217    0.31904    0.083793   0.50095    0.10168\n",
            "  0.31447    0.26187   -0.11273    0.76669    0.044041  -0.58808\n",
            " -0.51672   -0.14013    0.24544   -0.678     -0.24864    0.87743\n",
            " -0.64057   -0.62382    0.36739   -0.20345   -0.50641    0.52411\n",
            "  0.28528   -0.11386   -0.47109    0.26002   -0.46366    0.27499\n",
            "  0.06741    0.31625   -0.22564    0.029032  -1.3492     0.19262\n",
            " -0.66144    0.20876    0.24751   -0.33938   -0.18857   -0.88209\n",
            " -0.46367   -1.3514     1.2399    -0.080302   0.14926    0.70604\n",
            " -0.50818   -2.225     -0.20132   -0.33361    1.8033     0.066711\n",
            " -0.49835    0.027327  -0.30273   -0.60213    0.4461    -0.4295\n",
            " -0.091883   0.57811    0.58537    0.4652     0.11657    0.36907\n",
            " -0.3127    -0.35623    0.30122    0.35685    0.043412   0.054971\n",
            " -1.9139    -0.094874   0.59941    0.60765   -0.64818   -0.39301\n",
            " -1.1928    -1.3394     0.54517   -0.33547   -0.20778   -0.020578\n",
            "  0.63703   -0.41109   -0.12349   -0.29479   -0.032713   0.83004\n",
            " -0.0063338 -0.46121    0.52141    0.16243  ]\n",
            "year [ 4.4234e-01  4.8431e-01  3.7284e-01 -5.2861e-01  2.1558e-01 -4.6290e-01\n",
            "  6.0307e-01  7.1816e-01 -4.1382e-01  1.5157e-01 -2.9360e-02 -1.2905e-02\n",
            "  2.4569e-01 -2.6380e-02  2.8137e-04 -4.1139e-01  1.6784e-01 -9.4465e-02\n",
            " -3.9723e-01  2.5608e-01  3.9144e-01 -1.4293e-01  1.5430e-01  1.1509e+00\n",
            "  5.1744e-01 -4.2260e-01 -7.9870e-02 -7.7108e-01  7.8489e-02 -4.9301e-01\n",
            " -1.4824e-01  1.6366e-01  2.3525e-01 -3.2219e-01 -5.0613e-01  6.8354e-01\n",
            " -3.9673e-01  4.8081e-01 -5.9104e-01 -1.9323e-01 -2.8618e-01 -1.6291e-01\n",
            "  4.8853e-01  3.7437e-02  3.9265e-02  2.5850e-02  4.7258e-01 -1.3542e+00\n",
            "  2.6895e-02 -1.2436e+00 -1.3284e-01 -9.8070e-01  3.9823e-01  1.1715e+00\n",
            " -4.9008e-01 -2.8411e+00 -1.7090e-01 -2.1840e-01  2.0011e+00  5.9575e-01\n",
            " -3.6505e-01  7.8590e-01 -4.5694e-01  7.0966e-02  1.8904e-01  2.2404e-01\n",
            "  6.0091e-02  5.0271e-02  8.2711e-01 -2.4997e-01  4.6051e-01 -1.1298e-01\n",
            " -1.0912e+00  1.4487e-01 -8.3451e-01  1.2452e-01 -2.6793e-01  2.7680e-02\n",
            " -1.4872e+00 -1.8120e-01  8.8620e-01 -5.3061e-02 -4.9827e-01  3.1571e-01\n",
            " -1.1596e+00 -1.8781e-01  1.5968e-01 -5.7221e-01 -4.7602e-02 -3.2081e-01\n",
            " -7.0405e-02  3.6944e-01 -4.2656e-01 -8.0083e-02 -8.7588e-01  2.8568e-01\n",
            "  9.9353e-02  3.8253e-01  4.7456e-01 -6.5050e-01]\n",
            "area [-0.404     0.17837   0.2692    0.026579 -0.087215  0.21388  -0.037505\n",
            "  0.6475    0.46008   0.20449  -0.11145  -0.63107   0.70219  -0.65776\n",
            "  0.65796  -0.55481   0.43058  -0.3786   -1.0637   -0.13743   0.36824\n",
            "  0.5531    0.25801  -0.27067  -0.57316  -0.58589   0.22478  -0.45185\n",
            " -0.6907   -0.26828  -0.31529  -0.25309   0.82485   0.66125   0.47154\n",
            " -0.33202   0.15191   0.54799   0.23243   0.12149  -0.35724  -0.54129\n",
            " -0.020729 -0.063098  0.69429   0.30491   0.37609   0.21313   0.50835\n",
            "  0.077025 -0.43595   0.15544  -0.16539   0.86315  -0.41518  -2.4486\n",
            " -0.3564   -0.79141   2.019     0.35921  -0.049712  1.1743    0.36535\n",
            "  0.27387   1.0065   -0.17637   0.41959  -0.60818   0.66964   0.28883\n",
            " -0.37955  -0.37196   0.65425  -0.52368   0.47552  -0.79957   0.23756\n",
            "  0.77284  -0.71264   0.51529   0.43453   0.43299  -0.91983   0.19923\n",
            " -0.48566   0.19976   0.11262  -0.22549   0.37315   0.55712  -0.062835\n",
            " -0.44359  -0.40692   0.11252  -0.92161   0.95919  -0.17863   0.096509\n",
            "  0.87043  -0.028347]\n",
            "u [-0.031087   0.22155    0.44494    0.92176   -0.18663    0.069117\n",
            "  0.3293     0.26915    0.15562    0.31308    0.61152   -0.11215\n",
            "  0.21906    0.49481    0.087445   0.09159   -0.14941   -0.003524\n",
            "  0.035123   0.42403    1.3093     0.38263   -0.40788    0.16399\n",
            " -0.40562    0.87825    0.38619    0.4563     0.90609   -0.48334\n",
            "  0.3058     1.1697     0.22698    0.40321   -0.19317    0.46835\n",
            "  0.50217    1.2198     0.11228   -0.70321    0.16696   -0.13545\n",
            "  0.14074   -0.50954    0.10954    0.070928  -0.43888    0.57235\n",
            "  0.28055    0.44428   -0.39781    0.28689    0.40588    0.25379\n",
            "  0.022166  -0.77768   -0.28908    0.52274    1.0746    -0.18212\n",
            " -1.1388    -0.55753   -0.7822    -0.31826    0.43901    0.71711\n",
            "  0.70671    0.842      0.014151   0.37457    0.26225    0.47146\n",
            "  0.19087   -1.096      0.35595    0.25326   -0.086234   0.69395\n",
            " -0.0077498 -0.35524   -0.11673   -1.5351    -0.22939   -0.1914\n",
            " -0.94135    0.33092    0.35075   -1.6227     0.42651   -0.10422\n",
            " -0.10879    0.81115   -0.26946    0.47199    0.0848    -0.70241\n",
            "  0.18598   -0.67097    0.24698   -0.62001  ]\n",
            "day [-3.6689e-01  4.1540e-01  1.3478e-01 -1.7841e-01 -4.0050e-01  2.0647e-01\n",
            "  4.2742e-01  1.1290e+00 -8.3981e-01 -4.7955e-01  2.1115e-02 -1.8319e-01\n",
            "  2.4588e-01 -2.9048e-02  2.9683e-01 -4.4613e-01  1.7493e-01 -1.6619e-01\n",
            " -4.9573e-01 -2.6547e-02  7.6369e-01 -2.0810e-01  2.6494e-01  3.3085e-01\n",
            "  5.7039e-01  1.2832e-01 -2.8324e-01  7.8652e-02  3.8330e-01 -7.4012e-02\n",
            " -5.6725e-01 -2.5826e-01  1.4013e-01  1.1077e-01 -2.1629e-01  4.0637e-01\n",
            " -4.5740e-01  2.7936e-01  1.6717e-01 -1.6388e-01 -6.9184e-01 -3.1493e-01\n",
            "  6.5592e-01 -2.2426e-03 -1.6975e-02  1.0777e-01 -1.8928e-01 -7.7079e-01\n",
            "  2.4333e-01 -1.1467e+00  1.2931e-01 -5.9668e-01  5.2350e-01  1.0476e+00\n",
            " -8.3517e-01 -2.6268e+00 -3.2837e-01  2.4767e-01  2.1535e+00  6.0561e-01\n",
            " -5.4019e-01  9.9737e-01 -1.8484e-01 -4.7044e-01 -1.9265e-02  3.4195e-01\n",
            "  3.1006e-01 -3.1499e-01  2.9990e-01 -3.7647e-01 -1.0041e-01 -4.8373e-01\n",
            " -3.8982e-01 -3.4424e-01 -1.2195e-01  5.8945e-01 -1.5675e-01 -3.3774e-01\n",
            " -1.0446e+00 -3.7927e-02  3.8237e-01 -6.3733e-02 -1.2990e-01  1.2899e-01\n",
            " -1.4625e+00 -2.2875e-01 -3.6410e-01 -1.0337e-01  2.3737e-01 -2.3498e-01\n",
            "  1.5801e-01  3.8339e-02  1.3424e-02  3.2535e-01 -1.1755e+00  4.9695e-02\n",
            "  5.7227e-01  2.4380e-02  2.2106e-01  4.3169e-01]\n"
          ]
        }
      ]
    },
    {
      "cell_type": "code",
      "source": [
        "vocab_size = len(word_idx)\n",
        "\n",
        "model2d = tf.keras.Sequential([\n",
        "    keras.layers.Embedding(vocab_size+1, embedding_dim, input_length= max_length, weights= [embedding_matrix]),\n",
        "    keras.layers.Conv1D(128, 1, activation= 'relu'),\n",
        "    keras.layers.MaxPooling1D(2, padding= 'same'),\n",
        "    keras.layers.Bidirectional(keras.layers.LSTM(64)),\n",
        "    keras.layers.Dense(100, kernel_regularizer=keras.regularizers.l1(0.01), activation= 'relu'),\n",
        "    keras.layers.Dropout(0.1),\n",
        "    keras.layers.Dense(1, kernel_regularizer = keras.regularizers.l1(0.01), activation= 'sigmoid')\n",
        "])\n",
        "\n",
        "model2d.compile(loss= 'binary_crossentropy', optimizer= 'adam', metrics= ['accuracy'])\n",
        "model2d.summary()"
      ],
      "metadata": {
        "colab": {
          "base_uri": "https://localhost:8080/"
        },
        "id": "O-XwFCv3RL9S",
        "outputId": "59ef5174-b82d-438b-d1eb-3e6a369bc45c"
      },
      "execution_count": 15,
      "outputs": [
        {
          "output_type": "stream",
          "name": "stdout",
          "text": [
            "Model: \"sequential\"\n",
            "_________________________________________________________________\n",
            " Layer (type)                Output Shape              Param #   \n",
            "=================================================================\n",
            " embedding (Embedding)       (None, 32, 100)           2739000   \n",
            "                                                                 \n",
            " conv1d (Conv1D)             (None, 32, 128)           12928     \n",
            "                                                                 \n",
            " max_pooling1d (MaxPooling1D  (None, 16, 128)          0         \n",
            " )                                                               \n",
            "                                                                 \n",
            " bidirectional (Bidirectiona  (None, 128)              98816     \n",
            " l)                                                              \n",
            "                                                                 \n",
            " dense (Dense)               (None, 100)               12900     \n",
            "                                                                 \n",
            " dropout (Dropout)           (None, 100)               0         \n",
            "                                                                 \n",
            " dense_1 (Dense)             (None, 1)                 101       \n",
            "                                                                 \n",
            "=================================================================\n",
            "Total params: 2,863,745\n",
            "Trainable params: 2,863,745\n",
            "Non-trainable params: 0\n",
            "_________________________________________________________________\n"
          ]
        }
      ]
    },
    {
      "cell_type": "code",
      "source": [
        "history = model2d.fit(training_padded, train_labels, epochs= 10, validation_split= 0.2)\n",
        "res = (model2d.predict(testing_padded) > 0.5).astype(int).reshape(-1)\n",
        "print(accuracy_score(y_true = test_labels, y_pred = res))\n",
        "print(recall_score(y_true = test_labels, y_pred = res))\n",
        "print(precision_score(y_true = test_labels, y_pred = res))\n",
        "print(f1_score(y_true = test_labels, y_pred = res))"
      ],
      "metadata": {
        "colab": {
          "base_uri": "https://localhost:8080/"
        },
        "id": "lj0S_FbYRU87",
        "outputId": "50c79dd3-bbbc-4301-8fc2-b0da860b9059"
      },
      "execution_count": 16,
      "outputs": [
        {
          "output_type": "stream",
          "name": "stdout",
          "text": [
            "Epoch 1/10\n",
            "1245/1245 [==============================] - 18s 10ms/step - loss: 1.0420 - accuracy: 0.7951 - val_loss: 0.4904 - val_accuracy: 0.8453\n",
            "Epoch 2/10\n",
            "1245/1245 [==============================] - 11s 9ms/step - loss: 0.3512 - accuracy: 0.9233 - val_loss: 0.3614 - val_accuracy: 0.9121\n",
            "Epoch 3/10\n",
            "1245/1245 [==============================] - 11s 9ms/step - loss: 0.2447 - accuracy: 0.9652 - val_loss: 0.3371 - val_accuracy: 0.9271\n",
            "Epoch 4/10\n",
            "1245/1245 [==============================] - 11s 9ms/step - loss: 0.1999 - accuracy: 0.9822 - val_loss: 0.3339 - val_accuracy: 0.9339\n",
            "Epoch 5/10\n",
            "1245/1245 [==============================] - 11s 9ms/step - loss: 0.1813 - accuracy: 0.9884 - val_loss: 0.3481 - val_accuracy: 0.9365\n",
            "Epoch 6/10\n",
            "1245/1245 [==============================] - 12s 9ms/step - loss: 0.1683 - accuracy: 0.9923 - val_loss: 0.3545 - val_accuracy: 0.9360\n",
            "Epoch 7/10\n",
            "1245/1245 [==============================] - 14s 11ms/step - loss: 0.1651 - accuracy: 0.9929 - val_loss: 0.3428 - val_accuracy: 0.9380\n",
            "Epoch 8/10\n",
            "1245/1245 [==============================] - 11s 9ms/step - loss: 0.1596 - accuracy: 0.9943 - val_loss: 0.3681 - val_accuracy: 0.9371\n",
            "Epoch 9/10\n",
            "1245/1245 [==============================] - 11s 9ms/step - loss: 0.1553 - accuracy: 0.9959 - val_loss: 0.3371 - val_accuracy: 0.9353\n",
            "Epoch 10/10\n",
            "1245/1245 [==============================] - 11s 9ms/step - loss: 0.1552 - accuracy: 0.9958 - val_loss: 0.3533 - val_accuracy: 0.9399\n",
            "0.9333092354961142\n",
            "0.9227691076430572\n",
            "0.9290894439967768\n",
            "0.9259184902629994\n"
          ]
        }
      ]
    },
    {
      "cell_type": "code",
      "source": [
        "plt.plot(history.history['loss'], label='Training loss')\n",
        "plt.plot(history.history['val_loss'], color='red', label='cv loss')\n",
        "plt.legend()\n",
        "plt.figure()\n",
        "plt.plot(history.history['accuracy'], label='Training accuracy')\n",
        "plt.plot(history.history['val_accuracy'], color='red', label='cv accuracy')\n",
        "plt.legend()"
      ],
      "metadata": {
        "colab": {
          "base_uri": "https://localhost:8080/",
          "height": 530
        },
        "id": "wnHXaEkVUrvZ",
        "outputId": "8416c8d2-fdcc-406f-ab34-e86e6d4b0c49"
      },
      "execution_count": 17,
      "outputs": [
        {
          "output_type": "execute_result",
          "data": {
            "text/plain": [
              "<matplotlib.legend.Legend at 0x7fac5d6182d0>"
            ]
          },
          "metadata": {},
          "execution_count": 17
        },
        {
          "output_type": "display_data",
          "data": {
            "text/plain": [
              "<Figure size 432x288 with 1 Axes>"
            ],
            "image/png": "[encoded data removed]"
          },
          "metadata": {
            "needs_background": "light"
          }
        },
        {
          "output_type": "display_data",
          "data": {
            "text/plain": [
              "<Figure size 432x288 with 1 Axes>"
            ],
            "image/png": "[encoded data removed]"
          },
          "metadata": {
            "needs_background": "light"
          }
        }
      ]
    }
  ]
}